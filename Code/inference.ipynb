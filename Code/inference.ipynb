{
 "cells": [
  {
   "cell_type": "code",
   "id": "initial_id",
   "metadata": {
    "collapsed": true,
    "ExecuteTime": {
     "end_time": "2024-06-19T07:17:28.378632Z",
     "start_time": "2024-06-19T07:17:27.086827Z"
    }
   },
   "source": [
    "import numpy as np\n",
    "import torch\n",
    "import torch.nn as nn\n",
    "from utils import segment_features"
   ],
   "outputs": [],
   "execution_count": 1
  },
  {
   "metadata": {
    "ExecuteTime": {
     "end_time": "2024-06-18T15:19:06.903814Z",
     "start_time": "2024-06-18T15:19:06.900498Z"
    }
   },
   "cell_type": "code",
   "source": "",
   "id": "afb13e1216e548aa",
   "outputs": [],
   "execution_count": 2
  },
  {
   "metadata": {
    "ExecuteTime": {
     "end_time": "2024-06-19T07:17:32.273492Z",
     "start_time": "2024-06-19T07:17:32.262558Z"
    }
   },
   "cell_type": "code",
   "source": [
    "test_data_1 = np.load('../../Data/scene_analysis/2_Florian_Heizung_aus.npy')\n",
    "test_data_2 = np.load('../../Data/scene_analysis/3_Verena_Staubsauger_an_Alarm_an.npy')\n",
    "test_data_3 = np.load('../../Data/scene_analysis/5_Lukas_Staubsauger_an_Licht_aus.npy')\n",
    "test_data_4 = np.load('../../Data/scene_analysis/6_Deepak_Radio_aus_Licht_aus.npy')\n",
    "test_data_5 = np.load('../../Data/development_scenes_npy/development_scenes/3_speech_true_Radio_an.npy')\n",
    "print(f\"Florian Heizung aus (Scene 1): {test_data_1.shape} \"\n",
    "      f\"\\nVerena Staubsauger an Alarm an (Scene 2): {test_data_2.shape} \"\n",
    "      f\"\\nLukas Staubsauger an Licht aus (Scene 3): {test_data_3.shape} \"\n",
    "      f\"\\nDeepak Radio aus Licht aus (Scene 4): {test_data_4.shape}\"\n",
    "      f\"\\n{test_data_5.shape}\")"
   ],
   "id": "6622ad0a70bdcf7",
   "outputs": [
    {
     "name": "stdout",
     "output_type": "stream",
     "text": [
      "Florian Heizung aus (Scene 1): (1, 175, 854) \n",
      "Verena Staubsauger an Alarm an (Scene 2): (1, 175, 762) \n",
      "Lukas Staubsauger an Licht aus (Scene 3): (1, 175, 292) \n",
      "Deepak Radio aus Licht aus (Scene 4): (1, 175, 243)\n",
      "(175, 1109)\n"
     ]
    }
   ],
   "execution_count": 2
  },
  {
   "metadata": {
    "ExecuteTime": {
     "end_time": "2024-06-19T07:17:35.158949Z",
     "start_time": "2024-06-19T07:17:35.119526Z"
    }
   },
   "cell_type": "code",
   "source": [
    "use_mps = torch.backends.mps.is_available()\n",
    "device = torch.device(\"mps\" if use_mps else \"cpu\")"
   ],
   "id": "419c86711dcc5948",
   "outputs": [],
   "execution_count": 3
  },
  {
   "metadata": {
    "ExecuteTime": {
     "end_time": "2024-06-19T07:17:39.666432Z",
     "start_time": "2024-06-19T07:17:39.243642Z"
    }
   },
   "cell_type": "code",
   "source": [
    "from model_architectures import EnhancedAudioCNN\n",
    "\n",
    "def load_model(model_path, device='cpu'):\n",
    "    checkpoint = torch.load(model_path, map_location=device)\n",
    "    model = EnhancedAudioCNN()\n",
    "    model.load_state_dict(checkpoint['model_state_dict'])\n",
    "    model.eval()\n",
    "    model.to(device)\n",
    "    return model\n",
    "\n",
    "\n",
    "seg_1 = segment_features(test_data_1[0])\n",
    "seg_2 = segment_features(test_data_2[0])\n",
    "seg_3 = segment_features(test_data_3[0])\n",
    "seg_4 = segment_features(test_data_4[0])\n",
    "\n",
    "\n",
    "# Assume segments are already loaded and segmented from the previous step\n",
    "segments_1 = torch.tensor(seg_1, dtype=torch.float32).to(device)\n",
    "segments_2 = torch.tensor(seg_2, dtype=torch.float32).to(device)\n",
    "segments_3 = torch.tensor(seg_3, dtype=torch.float32).to(device)\n",
    "segments_4 = torch.tensor(seg_4, dtype=torch.float32).to(device)\n",
    "\n",
    "segments_1 = segments_1.unsqueeze(1)\n",
    "segments_2 = segments_2.unsqueeze(1)\n",
    "segments_3 = segments_3.unsqueeze(1)\n",
    "segments_4 = segments_4.unsqueeze(1)"
   ],
   "id": "bbb3c715863fea65",
   "outputs": [],
   "execution_count": 4
  },
  {
   "metadata": {
    "ExecuteTime": {
     "end_time": "2024-06-19T07:17:41.693195Z",
     "start_time": "2024-06-19T07:17:41.690721Z"
    }
   },
   "cell_type": "code",
   "source": [
    "def inference_results(segments, model_path, device):\n",
    "    # Load the model\n",
    "    model = load_model(model_path, device=device)\n",
    "    results = []\n",
    "    for segment_tensor in segments:\n",
    "        # Each tensor in segments is (1, feature_dim, segment_frames), which should match the expected input shape of your model\n",
    "        segment_tensor = segment_tensor.unsqueeze(0)\n",
    "        \n",
    "        with torch.no_grad():\n",
    "            output = model(segment_tensor)\n",
    "            results.append(torch.softmax(output, dim=1).detach().cpu().numpy())\n",
    "    return results"
   ],
   "id": "ef5ee3f02d455d58",
   "outputs": [],
   "execution_count": 5
  },
  {
   "metadata": {
    "ExecuteTime": {
     "end_time": "2024-06-19T07:17:44.026759Z",
     "start_time": "2024-06-19T07:17:44.022045Z"
    }
   },
   "cell_type": "code",
   "source": [
    "class_mapping = {\n",
    "    0: 'Alarm',\n",
    "    1: 'Brötchen',\n",
    "    2: 'Fernseher',\n",
    "    3: 'Haus',\n",
    "    4: 'Heizung',\n",
    "    5: 'Leitung',\n",
    "    6: 'Licht',\n",
    "    7: 'Lüftung',\n",
    "    8: 'Ofen',\n",
    "    9: 'Radio',\n",
    "    10: 'Schraube',\n",
    "    11: 'Spiegel',\n",
    "    12: 'Staubsauger',\n",
    "    13: 'an',\n",
    "    14: 'aus',\n",
    "    15: 'kann',\n",
    "    16: 'nicht',\n",
    "    17: 'offen',\n",
    "    18: 'warm',\n",
    "    19: 'wunderbar'\n",
    "}"
   ],
   "id": "c39c53c63008d013",
   "outputs": [],
   "execution_count": 6
  },
  {
   "metadata": {
    "ExecuteTime": {
     "end_time": "2024-06-18T12:49:27.709836Z",
     "start_time": "2024-06-18T12:49:27.705917Z"
    }
   },
   "cell_type": "code",
   "source": "\n",
   "id": "e322a305189cc303",
   "outputs": [],
   "execution_count": 31
  },
  {
   "metadata": {
    "ExecuteTime": {
     "end_time": "2024-06-19T07:31:43.467820Z",
     "start_time": "2024-06-19T07:31:43.461450Z"
    }
   },
   "cell_type": "code",
   "source": [
    "def predictions(results):\n",
    "    threshold_60 = [13, 14]\n",
    "    threshold_80 = [6]\n",
    "    threshold_99 = [1, 2, 3, 12, 19]\n",
    "    prediction_counts = {name: 0 for name in class_mapping.values()}\n",
    "    words_position = []\n",
    "    for i, result in enumerate(results):\n",
    "        probabilities = np.array(result[0])\n",
    "        threshold = 0.9\n",
    "        predicted_index = np.argmax(probabilities)\n",
    "        if predicted_index in threshold_99:\n",
    "            threshold = 0.99\n",
    "        elif predicted_index in threshold_80:\n",
    "            threshold = 0.8\n",
    "        elif predicted_index in threshold_60:\n",
    "            threshold = 0.7\n",
    "        if max(probabilities) > threshold:\n",
    "            predicted_class = class_mapping[predicted_index]\n",
    "            prediction_counts[predicted_class] += 1\n",
    "            words_position.append([i, predicted_class])\n",
    "    for class_name, count in prediction_counts.items():\n",
    "        if count>0:\n",
    "            print(f\"{class_name}: {count}\")\n",
    "    return words_position"
   ],
   "id": "2551fd838da57039",
   "outputs": [],
   "execution_count": 47
  },
  {
   "metadata": {
    "ExecuteTime": {
     "end_time": "2024-06-19T07:32:39.122923Z",
     "start_time": "2024-06-19T07:32:33.814499Z"
    }
   },
   "cell_type": "code",
   "source": [
    "model_path = 'model_epoch_47.pth'\n",
    "\n",
    "results_1 = inference_results(segments_1, model_path, device)\n",
    "words_position_1 = predictions(results_1)\n",
    "print(50*\"_\")\n",
    "results_2 = inference_results(segments_2, model_path, device)\n",
    "words_position_2 = predictions(results_2)\n",
    "print(50*\"_\")\n",
    "results_3 = inference_results(segments_3, model_path, device)\n",
    "words_position_3 = predictions(results_3)\n",
    "print(50*\"_\")\n",
    "results_4 = inference_results(segments_4, model_path, device)\n",
    "words_position_4 = predictions(results_4)"
   ],
   "id": "227ea4f7225a62f8",
   "outputs": [
    {
     "name": "stdout",
     "output_type": "stream",
     "text": [
      "Heizung: 24\n",
      "Leitung: 1\n",
      "Lüftung: 3\n",
      "Radio: 4\n",
      "an: 1\n",
      "aus: 19\n",
      "__________________________________________________\n",
      "Alarm: 28\n",
      "Staubsauger: 24\n",
      "an: 24\n",
      "__________________________________________________\n",
      "Licht: 25\n",
      "Staubsauger: 20\n",
      "an: 13\n",
      "aus: 22\n",
      "__________________________________________________\n",
      "Licht: 5\n",
      "Radio: 27\n",
      "aus: 15\n"
     ]
    }
   ],
   "execution_count": 48
  },
  {
   "metadata": {},
   "cell_type": "markdown",
   "source": [
    "Florian Heizung aus (Scene 1)\n",
    "\n",
    "Verena Staubsauger an Alarm an (Scene 2)\n",
    "\n",
    "Lukas Staubsauger an Licht aus (Scene 3)\n",
    "\n",
    "Deepak Radio aus Licht aus (Scene 4)"
   ],
   "id": "2c7a1dad051af32f"
  },
  {
   "metadata": {
    "ExecuteTime": {
     "end_time": "2024-06-19T07:18:44.535534Z",
     "start_time": "2024-06-19T07:18:44.532601Z"
    }
   },
   "cell_type": "code",
   "source": [
    "device_keywords = ['Alarm', 'Fernseher', 'Heizung', 'Licht', 'Lüftung', 'Ofen', 'Radio', 'Staubsauger']\n",
    "activation_keywords = ['an', 'aus']"
   ],
   "id": "6c18045f783beb9a",
   "outputs": [],
   "execution_count": 10
  },
  {
   "metadata": {
    "ExecuteTime": {
     "end_time": "2024-06-19T07:32:45.075573Z",
     "start_time": "2024-06-19T07:32:44.666685Z"
    }
   },
   "cell_type": "code",
   "source": [
    "import matplotlib.pyplot as plt\n",
    "melspect_indices = list(range(12, 76))  # melspect_0 to melspect_63\n",
    "\n",
    "# Extract Mel spectrogram data\n",
    "melspect_data = segments_1.cpu().numpy()[:, :, melspect_indices, :]\n",
    "\n",
    "# Average across segments to create a single spectrogram (if needed)\n",
    "# Here, averaging over the 0-axis (segments) to get a (frames, features) shape\n",
    "#print(melspect_data.shape)\n",
    "spectrogram = np.mean(melspect_data, axis=2)\n",
    "spectrogram = np.mean(spectrogram, axis=2)\n",
    "# Transpose to get the correct shape for plotting (features, frames)\n",
    "spectrogram = (spectrogram - np.min(spectrogram)) / (np.max(spectrogram) - np.min(spectrogram))\n",
    "spectrogram = spectrogram.T\n",
    "#spectrogram = spectrogram[:, ::downsample_factor]\n",
    "# Plotting the spectrogram\n",
    "plt.figure(figsize=(20, 10))\n",
    "plt.imshow(spectrogram, aspect='auto', origin='lower', cmap='viridis')\n",
    "plt.title('Mel Spectrogram with Spoken Words Marked')\n",
    "plt.xlabel('Time (frames)')\n",
    "plt.ylabel('Frequency (Mel bands)')\n",
    "\n",
    "# Mark the spoken words on the spectrogram\n",
    "predictions_1 = words_position_1\n",
    "predictions_2 = words_position_2\n",
    "predictions_3 = words_position_3\n",
    "predictions_4 = words_position_4\n",
    "# Add text annotations\n",
    "\"\"\"\n",
    "for idx, word in predictions:\n",
    "    print(idx)\n",
    "    plt.text(idx, -0.5, word, color='red', fontsize=12, ha='center', va='bottom')\"\"\"\n",
    "unique_predictions = []\n",
    "last_word = None\n",
    "range_limit = 68  # Define a range to skip close duplicate words\n",
    "\n",
    "for idx, word in predictions_2:\n",
    "    if last_word is None or word != last_word or (unique_predictions and idx - unique_predictions[-1][0] > range_limit):\n",
    "        unique_predictions.append((idx, word))\n",
    "        last_word = word\n",
    "\n",
    "# Add text annotations\n",
    "position = -0.5\n",
    "last_word = None\n",
    "last_idx = 0\n",
    "final_predictions = []\n",
    "for idx, word in unique_predictions:\n",
    "    if last_word is None:\n",
    "        last_idx = idx\n",
    "        last_word = word\n",
    "        continue\n",
    "    elif word in activation_keywords and last_word in device_keywords:\n",
    "        command = last_word + \" \" + word\n",
    "        final_predictions.append((command, last_idx, idx))\n",
    "        last_word = word\n",
    "        last_idx = idx\n",
    "    else:\n",
    "        last_word = word\n",
    "        last_idx = idx\n",
    "print(final_predictions)\n",
    "for idx, word in unique_predictions:\n",
    "    plt.text(idx, position, word, color='red', fontsize=26, ha='center', va='bottom')\n",
    "    position += 0.05\n",
    "\n",
    "plt.show()"
   ],
   "id": "64b86ee221516906",
   "outputs": [
    {
     "name": "stdout",
     "output_type": "stream",
     "text": [
      "[]\n"
     ]
    },
    {
     "data": {
      "text/plain": [
       "<Figure size 2000x1000 with 1 Axes>"
      ],
      "image/png": "[encoded data removed]"
     },
     "metadata": {},
     "output_type": "display_data"
    }
   ],
   "execution_count": 49
  },
  {
   "metadata": {
    "ExecuteTime": {
     "end_time": "2024-06-17T16:10:23.238743Z",
     "start_time": "2024-06-17T16:10:23.232958Z"
    }
   },
   "cell_type": "code",
   "source": [
    "\"\"\"def compute_cost(predictions, annotations):\n",
    "    cost = 0\n",
    "    for pred in predictions:\n",
    "        if pred['type'] == 'true_positive':\n",
    "            cost -= 1\n",
    "        elif pred['type'] == 'false_negative':\n",
    "            cost += 0.5\n",
    "        elif pred['type'] == 'false_positive':\n",
    "            command = pred['command']\n",
    "            if command in [\"Fernseher an\", \"Fernseher aus\", \"Licht an\", \"Licht aus\", \"Radio an\", \"Radio aus\", \"Staubsauger an\", \"Staubsauger aus\"]:\n",
    "                cost += 2\n",
    "            elif command in [\"Heizung an\", \"Heizung aus\", \"Lüftung an\", \"Lüftung aus\"]:\n",
    "                cost += 3\n",
    "            elif command in [\"Ofen an\", \"Ofen aus\", \"Alarm an\", \"Alarm aus\"]:\n",
    "                cost += 4\n",
    "        elif pred['type'] == 'cross_trigger':\n",
    "            if pred['correct_device']:\n",
    "                cost += 0.1\n",
    "            else:\n",
    "                cost += 1\n",
    "    return cost\"\"\"\n"
   ],
   "id": "411956228018d466",
   "outputs": [],
   "execution_count": 45
  }
 ],
 "metadata": {
  "kernelspec": {
   "display_name": "Python 3",
   "language": "python",
   "name": "python3"
  },
  "language_info": {
   "codemirror_mode": {
    "name": "ipython",
    "version": 2
   },
   "file_extension": ".py",
   "mimetype": "text/x-python",
   "name": "python",
   "nbconvert_exporter": "python",
   "pygments_lexer": "ipython2",
   "version": "2.7.6"
  }
 },
 "nbformat": 4,
 "nbformat_minor": 5
}
