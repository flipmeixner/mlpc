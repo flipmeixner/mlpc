{
 "cells": [
  {
   "cell_type": "code",
   "id": "initial_id",
   "metadata": {
    "collapsed": true,
    "ExecuteTime": {
     "end_time": "2024-05-21T10:07:37.475420Z",
     "start_time": "2024-05-21T10:07:36.436456Z"
    }
   },
   "source": [
    "import numpy as np\n",
    "import torch\n",
    "import torch.nn as nn"
   ],
   "outputs": [],
   "execution_count": 2
  },
  {
   "metadata": {
    "ExecuteTime": {
     "end_time": "2024-05-21T10:07:39.494997Z",
     "start_time": "2024-05-21T10:07:39.492211Z"
    }
   },
   "cell_type": "code",
   "source": [
    "def segment_features(features, segment_frames=44, hop_frames=1):\n",
    "    # Number of feature frames in the file\n",
    "    num_frames = features.shape[1]\n",
    "    \n",
    "    # Calculate the number of segments we can extract\n",
    "    num_segments = 1 + (num_frames - segment_frames) // hop_frames\n",
    "    \n",
    "    # Prepare an array to store segments\n",
    "    segments = []\n",
    "    \n",
    "    # Extract segments using a sliding window\n",
    "    for i in range(num_segments):\n",
    "        start_frame = i * hop_frames\n",
    "        end_frame = start_frame + segment_frames\n",
    "        segment = features[:, start_frame:end_frame]\n",
    "        segments.append(segment)\n",
    "        \n",
    "    return np.array(segments)"
   ],
   "id": "afb13e1216e548aa",
   "outputs": [],
   "execution_count": 3
  },
  {
   "metadata": {
    "ExecuteTime": {
     "end_time": "2024-05-21T10:46:28.805874Z",
     "start_time": "2024-05-21T10:46:28.794159Z"
    }
   },
   "cell_type": "code",
   "source": [
    "test_data_1 = np.load('../../Data/scene_analysis/2_Florian_Heizung_aus.npy')\n",
    "test_data_2 = np.load('../../Data/scene_analysis/3_Verena_Staubsauger_an_Alarm_an.npy')\n",
    "test_data_3 = np.load('../../Data/scene_analysis/5_Lukas_Staubsauger_an_Licht_aus.npy')\n",
    "test_data_4 = np.load('../../Data/scene_analysis/6_Deepak_Radio_aus_Licht_aus.npy')\n",
    "\n",
    "print(f\"Florian Heizung aus (Scene 1): {test_data_1.shape} \"\n",
    "      f\"\\nVerena Staubsauger an Alarm an (Scene 2): {test_data_2.shape} \"\n",
    "      f\"\\nLukas Staubsauger an Licht aus (Scene 3): {test_data_3.shape} \"\n",
    "      f\"\\nDeepak Radio aus Licht aus (Scene 4): {test_data_4.shape}\")"
   ],
   "id": "6622ad0a70bdcf7",
   "outputs": [
    {
     "name": "stdout",
     "output_type": "stream",
     "text": [
      "Florian Heizung aus (Scene 1): (1, 175, 854) \n",
      "Verena Staubsauger an Alarm an (Scene 2): (1, 175, 762) \n",
      "Lukas Staubsauger an Licht aus (Scene 3): (1, 175, 292) \n",
      "Deepak Radio aus Licht aus (Scene 4): (1, 175, 243)\n"
     ]
    }
   ],
   "execution_count": 12
  },
  {
   "metadata": {
    "ExecuteTime": {
     "end_time": "2024-05-20T09:39:10.080360Z",
     "start_time": "2024-05-20T09:39:10.075166Z"
    }
   },
   "cell_type": "code",
   "source": "test_data_1.shape",
   "id": "419c86711dcc5948",
   "outputs": [
    {
     "data": {
      "text/plain": [
       "(1, 175, 854)"
      ]
     },
     "execution_count": 4,
     "metadata": {},
     "output_type": "execute_result"
    }
   ],
   "execution_count": 4
  },
  {
   "metadata": {
    "ExecuteTime": {
     "end_time": "2024-05-21T11:44:54.629135Z",
     "start_time": "2024-05-21T11:44:54.614419Z"
    }
   },
   "cell_type": "code",
   "source": "",
   "id": "bbb3c715863fea65",
   "outputs": [],
   "execution_count": 63
  },
  {
   "metadata": {
    "ExecuteTime": {
     "end_time": "2024-05-21T12:23:22.312516Z",
     "start_time": "2024-05-21T12:23:19.900003Z"
    }
   },
   "cell_type": "code",
   "source": [
    "from model_architectures import EnhancedAudioCNN\n",
    "\n",
    "def load_model(model_path, device='cpu'):\n",
    "    checkpoint = torch.load(model_path, map_location=device)\n",
    "    model = EnhancedAudioCNN()\n",
    "    model.load_state_dict(checkpoint['model_state_dict'])\n",
    "    model.eval()\n",
    "    model.to(device)\n",
    "    return model\n",
    "\n",
    "#model_path = 'models/EnhancedAudioCNN_1.pth'\n",
    "model_path = 'all_3.pth'\n",
    "use_mps = torch.backends.mps.is_available()\n",
    "device = torch.device(\"mps\" if use_mps else \"cpu\")\n",
    "# Load the model\n",
    "model = load_model(model_path, device=device)\n",
    "\n",
    "seg_1 = segment_features(test_data_1[0])\n",
    "seg_2 = segment_features(test_data_2[0])\n",
    "seg_3 = segment_features(test_data_3[0])\n",
    "seg_4 = segment_features(test_data_4[0])\n",
    "\n",
    "\"\"\"seg_1 = np.concatenate((seg_1[:, :22, :], seg_1[:, 87:, :]), axis=1)\n",
    "seg_2 = np.concatenate((seg_2[:, :22, :], seg_2[:, 87:, :]), axis=1)\n",
    "seg_3 = np.concatenate((seg_3[:, :22, :], seg_3[:, 87:, :]), axis=1)\n",
    "seg_4 = np.concatenate((seg_4[:, :22, :], seg_4[:, 87:, :]), axis=1)\"\"\"\n",
    "\n",
    "# Assume segments are already loaded and segmented from the previous step\n",
    "segments_1 = torch.tensor(seg_1, dtype=torch.float32).to(device)\n",
    "segments_2 = torch.tensor(seg_2, dtype=torch.float32).to(device)\n",
    "segments_3 = torch.tensor(seg_3, dtype=torch.float32).to(device)\n",
    "segments_4 = torch.tensor(seg_4, dtype=torch.float32).to(device)\n",
    "\n",
    "segments_1 = segments_1.unsqueeze(1)\n",
    "segments_2 = segments_2.unsqueeze(1)\n",
    "segments_3 = segments_3.unsqueeze(1)\n",
    "segments_4 = segments_4.unsqueeze(1)\n",
    "# Apply the model to each segment\n",
    "results = []\n",
    "for segment_tensor in segments_2:\n",
    "    # Each tensor in segments is (1, feature_dim, segment_frames), which should match the expected input shape of your model\n",
    "    segment_tensor = segment_tensor.unsqueeze(0)\n",
    "    \n",
    "    with torch.no_grad():\n",
    "        output = model(segment_tensor)\n",
    "        results.append(torch.softmax(output, dim=1).detach().cpu().numpy())"
   ],
   "id": "ef5ee3f02d455d58",
   "outputs": [],
   "execution_count": 119
  },
  {
   "metadata": {
    "ExecuteTime": {
     "end_time": "2024-05-15T14:34:09.312628Z",
     "start_time": "2024-05-15T14:34:09.303923Z"
    }
   },
   "cell_type": "code",
   "source": [
    "words = []\n",
    "for i, result in enumerate(results):\n",
    "    if max(result[0]) > 0.5:\n",
    "        words.append([i, result])\n",
    "len(words)"
   ],
   "id": "c39c53c63008d013",
   "outputs": [
    {
     "data": {
      "text/plain": [
       "283"
      ]
     },
     "execution_count": 6,
     "metadata": {},
     "output_type": "execute_result"
    }
   ],
   "execution_count": 6
  },
  {
   "metadata": {
    "ExecuteTime": {
     "end_time": "2024-05-20T09:39:20.634538Z",
     "start_time": "2024-05-20T09:39:20.630825Z"
    }
   },
   "cell_type": "code",
   "source": "segments_1.shape",
   "id": "2551fd838da57039",
   "outputs": [
    {
     "data": {
      "text/plain": [
       "torch.Size([811, 1, 175, 44])"
      ]
     },
     "execution_count": 6,
     "metadata": {},
     "output_type": "execute_result"
    }
   ],
   "execution_count": 6
  },
  {
   "metadata": {
    "ExecuteTime": {
     "end_time": "2024-05-21T12:23:53.845021Z",
     "start_time": "2024-05-21T12:23:53.832139Z"
    }
   },
   "cell_type": "code",
   "source": [
    "# Dictionary mapping from index to class\n",
    "class_mapping = {\n",
    "    0: 'Alarm',\n",
    "    1: 'Brötchen',\n",
    "    2: 'Fernseher',\n",
    "    3: 'Haus',\n",
    "    4: 'Heizung',\n",
    "    5: 'Leitung',\n",
    "    6: 'Licht',\n",
    "    7: 'Lüftung',\n",
    "    8: 'Ofen',\n",
    "    9: 'Radio',\n",
    "    10: 'Schraube',\n",
    "    11: 'Spiegel',\n",
    "    12: 'Staubsauger',\n",
    "    13: 'an',\n",
    "    14: 'aus',\n",
    "    15: 'kann',\n",
    "    16: 'nicht',\n",
    "    17: 'offen',\n",
    "    18: 'warm',\n",
    "    19: 'wunderbar'\n",
    "}\n",
    "\n",
    "# Initialize a dictionary to hold prediction counts\n",
    "prediction_counts = {name: 0 for name in class_mapping.values()}\n",
    "\n",
    "# Process each result in the results list\n",
    "for result in results:\n",
    "    probabilities = np.array(result[0])\n",
    "    if max(probabilities) > 0.8:\n",
    "        predicted_index = np.argmax(probabilities)\n",
    "        predicted_class = class_mapping[predicted_index]\n",
    "        prediction_counts[predicted_class] += 1\n",
    "sum_of_counts = sum(prediction_counts.values())\n",
    "# Now print the counts of each predicted class\n",
    "for class_name, count in prediction_counts.items():\n",
    "    if count>0:\n",
    "        print(f\"{class_name}: {count}\")\n",
    "    \n",
    "#print(sum_of_counts)"
   ],
   "id": "227ea4f7225a62f8",
   "outputs": [
    {
     "name": "stdout",
     "output_type": "stream",
     "text": [
      "Alarm: 19\n",
      "Fernseher: 2\n",
      "Schraube: 6\n",
      "Staubsauger: 30\n",
      "an: 3\n",
      "warm: 4\n"
     ]
    }
   ],
   "execution_count": 121
  },
  {
   "metadata": {
    "ExecuteTime": {
     "end_time": "2024-05-21T10:08:29.275770Z",
     "start_time": "2024-05-21T10:08:29.267289Z"
    }
   },
   "cell_type": "code",
   "source": [
    "for result in results:\n",
    "    probabilities = np.array(result[0])\n",
    "probabilities"
   ],
   "id": "6c18045f783beb9a",
   "outputs": [
    {
     "data": {
      "text/plain": [
       "array([0.02938659, 0.05264592, 0.07938747, 0.11098366, 0.05376389,\n",
       "       0.01894658, 0.01557708, 0.00456725, 0.02142099, 0.14485623,\n",
       "       0.06881715, 0.01790391, 0.05573327, 0.0328542 , 0.07277482,\n",
       "       0.04881035, 0.02759245, 0.01794075, 0.03978242, 0.08625506],\n",
       "      dtype=float32)"
      ]
     },
     "execution_count": 8,
     "metadata": {},
     "output_type": "execute_result"
    }
   ],
   "execution_count": 8
  }
 ],
 "metadata": {
  "kernelspec": {
   "display_name": "Python 3",
   "language": "python",
   "name": "python3"
  },
  "language_info": {
   "codemirror_mode": {
    "name": "ipython",
    "version": 2
   },
   "file_extension": ".py",
   "mimetype": "text/x-python",
   "name": "python",
   "nbconvert_exporter": "python",
   "pygments_lexer": "ipython2",
   "version": "2.7.6"
  }
 },
 "nbformat": 4,
 "nbformat_minor": 5
}
