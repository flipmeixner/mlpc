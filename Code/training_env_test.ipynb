{
 "cells": [
  {
   "cell_type": "code",
   "id": "initial_id",
   "metadata": {
    "collapsed": true,
    "ExecuteTime": {
     "end_time": "2024-05-21T10:05:04.518378Z",
     "start_time": "2024-05-21T10:05:03.030808Z"
    }
   },
   "source": [
    "import numpy as np\n",
    "import pandas as pd\n",
    "import seaborn as sns\n",
    "import matplotlib.pyplot as plt\n",
    "from sklearn.decomposition import PCA\n",
    "from torch.utils.data import Dataset, DataLoader\n",
    "import torch\n",
    "import torch.nn as nn\n",
    "import torch.optim as optim\n",
    "from tqdm import tqdm"
   ],
   "outputs": [],
   "execution_count": 1
  },
  {
   "metadata": {
    "ExecuteTime": {
     "end_time": "2024-05-21T10:05:07.342977Z",
     "start_time": "2024-05-21T10:05:05.688477Z"
    }
   },
   "cell_type": "code",
   "source": [
    "data = np.load(\"../../Data/development.npy\")\n",
    "data_csv = pd.read_csv(\"../../Data/metadata/development.csv\")\n",
    "idx_to_feature_name = pd.read_csv(\"../../Data/metadata/idx_to_feature_name.csv\")"
   ],
   "id": "eac8414c5efa31e0",
   "outputs": [],
   "execution_count": 2
  },
  {
   "metadata": {
    "ExecuteTime": {
     "end_time": "2024-05-21T10:05:12.662067Z",
     "start_time": "2024-05-21T10:05:12.637234Z"
    }
   },
   "cell_type": "code",
   "source": [
    "labels = data_csv['word']\n",
    "y = {}\n",
    "labels_new = []\n",
    "i = 0\n",
    "for label in np.unique(labels).tolist():\n",
    "    if label == 'other':\n",
    "        continue\n",
    "    else:\n",
    "        y[label] = i\n",
    "        i += 1\n",
    "for label in labels:\n",
    "    if label == 'other':\n",
    "        continue\n",
    "    else:\n",
    "        labels_new.append(y[label])"
   ],
   "id": "6c16ca06691c2cb1",
   "outputs": [],
   "execution_count": 3
  },
  {
   "metadata": {
    "ExecuteTime": {
     "end_time": "2024-05-21T10:05:15.217024Z",
     "start_time": "2024-05-21T10:05:15.214670Z"
    }
   },
   "cell_type": "code",
   "source": "data_no_other = data[:40834, :, :]",
   "id": "61f37d21f3282177",
   "outputs": [],
   "execution_count": 4
  },
  {
   "metadata": {
    "ExecuteTime": {
     "end_time": "2024-05-13T15:12:55.751335Z",
     "start_time": "2024-05-13T15:12:55.746879Z"
    }
   },
   "cell_type": "code",
   "source": "y",
   "id": "9daafa88c2d75da6",
   "outputs": [
    {
     "data": {
      "text/plain": [
       "{'Alarm': 0,\n",
       " 'Brötchen': 1,\n",
       " 'Fernseher': 2,\n",
       " 'Haus': 3,\n",
       " 'Heizung': 4,\n",
       " 'Leitung': 5,\n",
       " 'Licht': 6,\n",
       " 'Lüftung': 7,\n",
       " 'Ofen': 8,\n",
       " 'Radio': 9,\n",
       " 'Schraube': 10,\n",
       " 'Spiegel': 11,\n",
       " 'Staubsauger': 12,\n",
       " 'an': 13,\n",
       " 'aus': 14,\n",
       " 'kann': 15,\n",
       " 'nicht': 16,\n",
       " 'offen': 17,\n",
       " 'warm': 18,\n",
       " 'wunderbar': 19}"
      ]
     },
     "execution_count": 26,
     "metadata": {},
     "output_type": "execute_result"
    }
   ],
   "execution_count": 26
  },
  {
   "metadata": {
    "ExecuteTime": {
     "end_time": "2024-05-13T15:37:37.066158Z",
     "start_time": "2024-05-13T15:37:35.872571Z"
    }
   },
   "cell_type": "code",
   "source": [
    "#data_new = np.concatenate((data[:, :11, :], data[:, 171:, :]), axis=1)\n",
    "#data_test = np.concatenate((data[:4, :11, :], data[:4, 76:, :]), axis=1)\n",
    "#data_train = np.concatenate((data_no_other[:36236, :22, :], data_no_other[:36236, 87:, :]), axis=1) # data[samples, features, ...]\n",
    "#data_valid = np.concatenate((data_no_other[36236:, :22, :], data_no_other[36236:, 87:, :]), axis=1)\n",
    "#data_train = data[:36236, :, :]\n",
    "#data_valid = data[36236:, :, :] 32667\n",
    "\n",
    "data_train = np.concatenate((data_no_other[:32667, :22, :], data_no_other[:32667, 87:, :]), axis=1) # data[samples, features, ...]\n",
    "data_valid = np.concatenate((data_no_other[32667:, :22, :], data_no_other[32667:, 87:, :]), axis=1)\n",
    "print(data_train.shape, data_valid.shape)"
   ],
   "id": "e2670bb1d2f0e560",
   "outputs": [
    {
     "name": "stdout",
     "output_type": "stream",
     "text": [
      "(32667, 110, 44) (8167, 110, 44)\n"
     ]
    }
   ],
   "execution_count": 38
  },
  {
   "metadata": {
    "ExecuteTime": {
     "end_time": "2024-05-15T15:02:48.445428Z",
     "start_time": "2024-05-15T15:02:48.442959Z"
    }
   },
   "cell_type": "code",
   "source": [
    "data_train = data_no_other[:32667, :, :]\n",
    "data_valid = data_no_other[32667:, :, :]\n",
    "labels_train = labels_new[:32667]\n",
    "labels_valid = labels_new[32667:]\n",
    "print(data_train.shape, data_valid.shape)"
   ],
   "id": "394ba67bdd9eca30",
   "outputs": [
    {
     "name": "stdout",
     "output_type": "stream",
     "text": [
      "(32667, 175, 44) (8167, 175, 44)\n"
     ]
    }
   ],
   "execution_count": 6
  },
  {
   "metadata": {
    "ExecuteTime": {
     "end_time": "2024-05-15T15:02:51.082411Z",
     "start_time": "2024-05-15T15:02:50.309142Z"
    }
   },
   "cell_type": "code",
   "source": [
    "X_tensor_train = torch.tensor(data_train, dtype=torch.float32)\n",
    "y_tensor_train = torch.tensor(labels_train, dtype=torch.long)\n",
    "X_tensor_valid = torch.tensor(data_valid, dtype=torch.float32)\n",
    "y_tensor_valid = torch.tensor(labels_valid, dtype=torch.long)"
   ],
   "id": "c6db0d9c4387765a",
   "outputs": [],
   "execution_count": 7
  },
  {
   "metadata": {
    "ExecuteTime": {
     "end_time": "2024-05-15T15:02:52.475051Z",
     "start_time": "2024-05-15T15:02:52.472304Z"
    }
   },
   "cell_type": "code",
   "source": [
    "class CustomDataset(Dataset):\n",
    "    def __init__(self, features, labels):\n",
    "        self.features = features\n",
    "        self.labels = labels\n",
    "\n",
    "    def __len__(self):\n",
    "        return len(self.features)\n",
    "\n",
    "    def __getitem__(self, index):\n",
    "        return self.features[index], self.labels[index]"
   ],
   "id": "1016c593d9d7b2aa",
   "outputs": [],
   "execution_count": 8
  },
  {
   "metadata": {
    "ExecuteTime": {
     "end_time": "2024-05-15T15:02:54.387605Z",
     "start_time": "2024-05-15T15:02:54.384034Z"
    }
   },
   "cell_type": "code",
   "source": "from model_architectures import EnhancedAudioCNN",
   "id": "aaeed864a8c37c3d",
   "outputs": [],
   "execution_count": 9
  },
  {
   "metadata": {
    "ExecuteTime": {
     "end_time": "2024-05-15T15:02:58.003129Z",
     "start_time": "2024-05-15T15:02:57.401057Z"
    }
   },
   "cell_type": "code",
   "source": [
    "model = EnhancedAudioCNN()\n",
    "criterion = nn.CrossEntropyLoss()\n",
    "optimizer = optim.Adam(model.parameters(), lr=0.001, weight_decay=0.0001)\n",
    "\n",
    "dataset_train = CustomDataset(X_tensor_train, y_tensor_train)\n",
    "dataloader_train = DataLoader(dataset_train, batch_size=64, shuffle=True, drop_last=True)\n",
    "\n",
    "dataset_valid = CustomDataset(X_tensor_valid, y_tensor_valid)\n",
    "dataloader_valid = DataLoader(dataset_valid, batch_size=64, shuffle=False, drop_last=True)\n",
    "\n",
    "use_mps = torch.backends.mps.is_available()\n",
    "device = torch.device(\"mps\" if use_mps else \"cpu\")\n",
    "\n",
    "model.to(device)"
   ],
   "id": "b1fd7a438c7d79c4",
   "outputs": [
    {
     "data": {
      "text/plain": [
       "EnhancedAudioCNN(\n",
       "  (conv1): Conv2d(1, 32, kernel_size=(3, 3), stride=(1, 1), padding=(1, 1))\n",
       "  (bn1): BatchNorm2d(32, eps=1e-05, momentum=0.01, affine=True, track_running_stats=True)\n",
       "  (conv2): Conv2d(32, 64, kernel_size=(3, 3), stride=(1, 1), padding=(1, 1))\n",
       "  (bn2): BatchNorm2d(64, eps=1e-05, momentum=0.1, affine=True, track_running_stats=True)\n",
       "  (pool): MaxPool2d(kernel_size=2, stride=2, padding=0, dilation=1, ceil_mode=False)\n",
       "  (dropout1): Dropout(p=0.1, inplace=False)\n",
       "  (conv3): Conv2d(64, 128, kernel_size=(3, 3), stride=(1, 1), padding=(1, 1))\n",
       "  (bn3): BatchNorm2d(128, eps=1e-05, momentum=0.1, affine=True, track_running_stats=True)\n",
       "  (conv4): Conv2d(128, 64, kernel_size=(3, 3), stride=(1, 1), padding=(1, 1))\n",
       "  (bn4): BatchNorm2d(64, eps=1e-05, momentum=0.1, affine=True, track_running_stats=True)\n",
       "  (fc1): Linear(in_features=1280, out_features=32, bias=True)\n",
       "  (relu): ReLU()\n",
       "  (dropout2): Dropout(p=0.1, inplace=False)\n",
       "  (fc2): Linear(in_features=32, out_features=20, bias=True)\n",
       ")"
      ]
     },
     "execution_count": 10,
     "metadata": {},
     "output_type": "execute_result"
    }
   ],
   "execution_count": 10
  },
  {
   "metadata": {
    "ExecuteTime": {
     "end_time": "2024-04-30T07:31:03.409782Z",
     "start_time": "2024-04-30T07:31:03.408240Z"
    }
   },
   "cell_type": "code",
   "source": "",
   "id": "1cc27d309eb0f5e",
   "outputs": [],
   "execution_count": 10
  },
  {
   "metadata": {
    "ExecuteTime": {
     "end_time": "2024-05-15T15:09:02.528207Z",
     "start_time": "2024-05-15T15:03:01.144685Z"
    }
   },
   "cell_type": "code",
   "source": [
    "# Example training loop\n",
    "num_epochs = 20\n",
    "#total_iterations = num_epochs * (len(dataloader_train) + len(dataloader_valid))\n",
    "#progress_bar = tqdm(total=total_iterations, desc='Training and Evaluation')\n",
    "\n",
    "losses_train = []\n",
    "losses_valid = []\n",
    "\n",
    "for epoch in range(num_epochs):\n",
    "    model.train()\n",
    "    for features, labels in dataloader_train:\n",
    "        optimizer.zero_grad()\n",
    "        features = features.unsqueeze(1)\n",
    "        inputs = features.to(device)\n",
    "        targets = labels.to(device)\n",
    "        outputs = model(inputs)\n",
    "        loss = criterion(outputs, targets)\n",
    "        loss.backward()\n",
    "        optimizer.step()\n",
    "        \n",
    "    losses_train.append(loss.item())\n",
    "    \n",
    "    model.eval()\n",
    "    with torch.no_grad():\n",
    "        for features, labels in dataloader_valid:\n",
    "            inputs = features.to(device)\n",
    "            inputs = inputs.unsqueeze(1)\n",
    "            targets = labels.to(device)\n",
    "            outputs = model(inputs)\n",
    "            loss = criterion(outputs, targets)\n",
    "        losses_valid.append(loss.item())\n",
    "    if losses_train[-1] < 0.3 and losses_valid[-1] < 0.2:\n",
    "        torch.save({\n",
    "            'model_state_dict': model.state_dict(),\n",
    "            'optimizer_state_dict': optimizer.state_dict(),\n",
    "            }, f'model_epoch_{epoch}.pth')\n",
    "    #progress_bar.update(2)\n",
    "    print(f'Epoch {epoch + 1}/{num_epochs}, Training loss: {losses_train[-1]}, Validation loss: {losses_valid[-1]}')"
   ],
   "id": "1feb5582ac53131e",
   "outputs": [
    {
     "name": "stdout",
     "output_type": "stream",
     "text": [
      "Epoch 1/20, Training loss: 1.221971035003662, Validation loss: 0.9578855037689209\n",
      "Epoch 2/20, Training loss: 1.0638556480407715, Validation loss: 0.644181489944458\n",
      "Epoch 3/20, Training loss: 1.0396398305892944, Validation loss: 0.9693616628646851\n",
      "Epoch 4/20, Training loss: 0.5016836524009705, Validation loss: 0.6327088475227356\n",
      "Epoch 5/20, Training loss: 0.508704662322998, Validation loss: 1.0011146068572998\n",
      "Epoch 6/20, Training loss: 0.7566627860069275, Validation loss: 0.2394142746925354\n",
      "Epoch 7/20, Training loss: 0.26752936840057373, Validation loss: 0.2465195506811142\n",
      "Epoch 8/20, Training loss: 0.3398037254810333, Validation loss: 0.3723073899745941\n",
      "Epoch 9/20, Training loss: 0.1981135606765747, Validation loss: 0.2288767695426941\n",
      "Epoch 10/20, Training loss: 0.477830708026886, Validation loss: 0.3052626848220825\n",
      "Epoch 11/20, Training loss: 0.20465168356895447, Validation loss: 0.16063320636749268\n",
      "Epoch 12/20, Training loss: 0.30762097239494324, Validation loss: 0.3527524769306183\n",
      "Epoch 13/20, Training loss: 0.20728890597820282, Validation loss: 0.18936271965503693\n",
      "Epoch 14/20, Training loss: 0.21095721423625946, Validation loss: 0.19529563188552856\n",
      "Epoch 15/20, Training loss: 0.22147075831890106, Validation loss: 0.30749455094337463\n",
      "Epoch 16/20, Training loss: 0.17178532481193542, Validation loss: 0.19449663162231445\n",
      "Epoch 17/20, Training loss: 0.4184066355228424, Validation loss: 0.13909992575645447\n",
      "Epoch 18/20, Training loss: 0.27455848455429077, Validation loss: 0.08975045382976532\n",
      "Epoch 19/20, Training loss: 0.1418585628271103, Validation loss: 0.32848626375198364\n",
      "Epoch 20/20, Training loss: 0.2560961842536926, Validation loss: 0.48550236225128174\n"
     ]
    }
   ],
   "execution_count": 11
  },
  {
   "metadata": {
    "ExecuteTime": {
     "end_time": "2024-05-13T15:50:27.299128Z",
     "start_time": "2024-05-13T15:50:27.170322Z"
    }
   },
   "cell_type": "code",
   "source": [
    "import matplotlib.pyplot as plt\n",
    "\n",
    "# Assuming 'losses' is a list of float numbers representing the loss values\n",
    "plt.figure(figsize=(10, 5))  # Set the figure size (optional)\n",
    "plt.plot(losses_train, label='Training loss', marker='o')\n",
    "plt.plot(losses_valid, label='Validation loss', marker='x')  # Plot the losses with line and markers\n",
    "plt.title('Loss During Training and Evaluation')  # Give the plot a title\n",
    "plt.xlabel('Epoch')  # Label the x-axis as 'Epoch'\n",
    "plt.ylabel('Loss')  # Label the y-axis as 'Loss'\n",
    "plt.grid(True)  # Enable grid for easier readability\n",
    "plt.legend()\n",
    "plt.show()  # Display the plot"
   ],
   "id": "1dc5d574f27021ef",
   "outputs": [
    {
     "data": {
      "text/plain": [
       "<Figure size 1000x500 with 1 Axes>"
      ],
      "image/png": "[encoded data removed]"
     },
     "metadata": {},
     "output_type": "display_data"
    }
   ],
   "execution_count": 46
  },
  {
   "metadata": {
    "ExecuteTime": {
     "end_time": "2024-05-13T11:55:51.204645Z",
     "start_time": "2024-05-13T11:55:51.202338Z"
    }
   },
   "cell_type": "code",
   "source": [
    "losses = {}\n",
    "i = 0\n",
    "for train, valid in zip(losses_train, losses_valid):\n",
    "    losses[i] = (train + valid) / 2.0\n",
    "    i += 1\n",
    "print(losses)"
   ],
   "id": "d6223b7ee97a0f8",
   "outputs": [
    {
     "name": "stdout",
     "output_type": "stream",
     "text": [
      "{0: 1.0238907933235168, 1: 0.7726849913597107, 2: 0.41017571091651917, 3: 0.5054782330989838, 4: 0.4352187514305115, 5: 0.5672700107097626, 6: 0.7523325383663177, 7: 0.264121949672699, 8: 0.3519875258207321, 9: 0.5537025630474091, 10: 0.30785714089870453, 11: 0.20711658895015717, 12: 0.24715276062488556, 13: 0.2825005501508713, 14: 0.26964741945266724, 15: 0.6623668819665909, 16: 0.42854635417461395, 17: 0.24534934759140015, 18: 0.3023391216993332, 19: 0.19091109931468964}\n"
     ]
    }
   ],
   "execution_count": 48
  }
 ],
 "metadata": {
  "kernelspec": {
   "display_name": "Python 3",
   "language": "python",
   "name": "python3"
  },
  "language_info": {
   "codemirror_mode": {
    "name": "ipython",
    "version": 2
   },
   "file_extension": ".py",
   "mimetype": "text/x-python",
   "name": "python",
   "nbconvert_exporter": "python",
   "pygments_lexer": "ipython2",
   "version": "2.7.6"
  }
 },
 "nbformat": 4,
 "nbformat_minor": 5
}
