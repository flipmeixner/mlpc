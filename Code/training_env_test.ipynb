{
 "cells": [
  {
   "cell_type": "code",
   "id": "initial_id",
   "metadata": {
    "collapsed": true,
    "ExecuteTime": {
     "end_time": "2024-05-13T09:24:30.034879Z",
     "start_time": "2024-05-13T09:24:28.533554Z"
    }
   },
   "source": [
    "import numpy as np\n",
    "import pandas as pd\n",
    "import seaborn as sns\n",
    "import matplotlib.pyplot as plt\n",
    "from sklearn.decomposition import PCA\n",
    "from torch.utils.data import Dataset, DataLoader\n",
    "import torch\n",
    "import torch.nn as nn\n",
    "import torch.optim as optim\n",
    "from tqdm import tqdm"
   ],
   "outputs": [],
   "execution_count": 1
  },
  {
   "metadata": {
    "ExecuteTime": {
     "end_time": "2024-05-13T11:28:11.632661Z",
     "start_time": "2024-05-13T11:28:10.568331Z"
    }
   },
   "cell_type": "code",
   "source": [
    "data = np.load(\"../../Data/development.npy\")\n",
    "data_csv = pd.read_csv(\"../../Data/metadata/development.csv\")\n",
    "idx_to_feature_name = pd.read_csv(\"../../Data/metadata/idx_to_feature_name.csv\")"
   ],
   "id": "eac8414c5efa31e0",
   "outputs": [],
   "execution_count": 3
  },
  {
   "metadata": {
    "ExecuteTime": {
     "end_time": "2024-05-13T11:30:36.461613Z",
     "start_time": "2024-05-13T11:30:36.434320Z"
    }
   },
   "cell_type": "code",
   "source": [
    "labels = data_csv['word']\n",
    "y = {}\n",
    "labels_new = []\n",
    "i = 0\n",
    "for label in np.unique(labels).tolist():\n",
    "    y[label] = i\n",
    "    i += 1\n",
    "for label in labels:\n",
    "    if y[label] == 18:\n",
    "        continue\n",
    "    else:\n",
    "        labels_new.append(y[label])"
   ],
   "id": "6c16ca06691c2cb1",
   "outputs": [],
   "execution_count": 12
  },
  {
   "metadata": {
    "ExecuteTime": {
     "end_time": "2024-05-13T11:30:44.471203Z",
     "start_time": "2024-05-13T11:30:44.468847Z"
    }
   },
   "cell_type": "code",
   "source": "len(labels_new)",
   "id": "588f450441af3959",
   "outputs": [
    {
     "data": {
      "text/plain": [
       "40834"
      ]
     },
     "execution_count": 13,
     "metadata": {},
     "output_type": "execute_result"
    }
   ],
   "execution_count": 13
  },
  {
   "metadata": {
    "ExecuteTime": {
     "end_time": "2024-05-13T11:33:54.640349Z",
     "start_time": "2024-05-13T11:33:54.638226Z"
    }
   },
   "cell_type": "code",
   "source": [
    "data_no_other = data[:40834, :, :]\n",
    "print(data_no_other.shape)"
   ],
   "id": "61f37d21f3282177",
   "outputs": [
    {
     "name": "stdout",
     "output_type": "stream",
     "text": [
      "(40834, 175, 44)\n"
     ]
    }
   ],
   "execution_count": 16
  },
  {
   "metadata": {
    "ExecuteTime": {
     "end_time": "2024-05-13T11:36:24.281148Z",
     "start_time": "2024-05-13T11:36:23.420204Z"
    }
   },
   "cell_type": "code",
   "source": [
    "#data_new = np.concatenate((data[:, :11, :], data[:, 171:, :]), axis=1)\n",
    "#data_test = np.concatenate((data[:4, :11, :], data[:4, 76:, :]), axis=1)\n",
    "#data_train = np.concatenate((data_no_other[:36236, :22, :], data_no_other[:36236, 87:, :]), axis=1) # data[samples, features, ...]\n",
    "#data_valid = np.concatenate((data_no_other[36236:, :22, :], data_no_other[36236:, 87:, :]), axis=1)\n",
    "#data_train = data[:36236, :, :]\n",
    "#data_valid = data[36236:, :, :]\n",
    "\n",
    "data_train = np.concatenate((data_no_other[:32667, :22, :], data_no_other[:32667, 87:, :]), axis=1) # data[samples, features, ...]\n",
    "data_valid = np.concatenate((data_no_other[32667:, :22, :], data_no_other[32667:, 87:, :]), axis=1)\n",
    "print(data_train.shape, data_valid.shape)"
   ],
   "id": "e2670bb1d2f0e560",
   "outputs": [
    {
     "name": "stdout",
     "output_type": "stream",
     "text": [
      "(32667, 110, 44) (8167, 110, 44)\n"
     ]
    }
   ],
   "execution_count": 18
  },
  {
   "metadata": {
    "ExecuteTime": {
     "end_time": "2024-05-13T11:39:52.942623Z",
     "start_time": "2024-05-13T11:39:52.936991Z"
    }
   },
   "cell_type": "code",
   "source": [
    "labels_train = labels_new[:32667]\n",
    "labels_valid = labels_new[32667:]"
   ],
   "id": "394ba67bdd9eca30",
   "outputs": [],
   "execution_count": 27
  },
  {
   "metadata": {
    "ExecuteTime": {
     "end_time": "2024-05-13T11:39:57.091332Z",
     "start_time": "2024-05-13T11:39:56.835745Z"
    }
   },
   "cell_type": "code",
   "source": [
    "X_tensor_train = torch.tensor(data_train, dtype=torch.float32)\n",
    "y_tensor_train = torch.tensor(labels_train, dtype=torch.long)\n",
    "X_tensor_valid = torch.tensor(data_valid, dtype=torch.float32)\n",
    "y_tensor_valid = torch.tensor(labels_valid, dtype=torch.long)"
   ],
   "id": "c6db0d9c4387765a",
   "outputs": [],
   "execution_count": 28
  },
  {
   "metadata": {
    "ExecuteTime": {
     "end_time": "2024-05-13T11:39:58.262978Z",
     "start_time": "2024-05-13T11:39:58.259580Z"
    }
   },
   "cell_type": "code",
   "source": [
    "class CustomDataset(Dataset):\n",
    "    def __init__(self, features, labels):\n",
    "        self.features = features\n",
    "        self.labels = labels\n",
    "\n",
    "    def __len__(self):\n",
    "        return len(self.features)\n",
    "\n",
    "    def __getitem__(self, index):\n",
    "        return self.features[index], self.labels[index]"
   ],
   "id": "1016c593d9d7b2aa",
   "outputs": [],
   "execution_count": 29
  },
  {
   "metadata": {
    "ExecuteTime": {
     "end_time": "2024-04-30T07:31:02.881281Z",
     "start_time": "2024-04-30T07:31:02.879701Z"
    }
   },
   "cell_type": "code",
   "source": "",
   "id": "239da3fd7d15de36",
   "outputs": [],
   "execution_count": 8
  },
  {
   "metadata": {
    "ExecuteTime": {
     "end_time": "2024-05-13T11:40:00.404497Z",
     "start_time": "2024-05-13T11:40:00.391849Z"
    }
   },
   "cell_type": "code",
   "source": [
    "class AudioCNN(nn.Module):\n",
    "    def __init__(self):\n",
    "        super(AudioCNN, self).__init__()\n",
    "        self.conv1 = nn.Conv2d(1, 16, kernel_size=(3, 3), padding=1)\n",
    "        self.pool = nn.MaxPool2d(2, 2)\n",
    "        self.conv2 = nn.Conv2d(16, 32, kernel_size=(3, 3), padding=1)\n",
    "        self.dropout = nn.Dropout(0.5)\n",
    "        self.relu = nn.ReLU()\n",
    "        self.fc1 = nn.Linear(32 * 43 * 11, 64)\n",
    "        self.fc2 = nn.Linear(64, 32)\n",
    "        self.output = nn.Linear(32, 21)\n",
    "        #self.softmax = nn.Softmax(dim=1)\n",
    "\n",
    "    def forward(self, x):\n",
    "        x = self.pool(self.relu(self.conv1(x)))\n",
    "        x = self.pool(self.relu(self.conv2(x)))\n",
    "        x = x.view(-1, 32 * 43 * 11)\n",
    "        x = self.relu(self.fc1(x))\n",
    "        x = self.dropout(x)\n",
    "        x = self.relu(self.fc2(x))\n",
    "        x = self.dropout(x)\n",
    "        x = self.output(x)\n",
    "        return x\n",
    "    \n",
    "class SimplestAudioCNN(nn.Module):\n",
    "    def __init__(self):\n",
    "        super(SimplestAudioCNN, self).__init__()\n",
    "        self.conv1 = nn.Conv2d(1, 8, kernel_size=(3, 3), padding=1)  # Reduced the number of filters\n",
    "        self.pool = nn.MaxPool2d(2, 2)\n",
    "        # One Convolutional layer followed by pooling\n",
    "        self.fc1 = nn.Linear(8 * 55 * 22, 50)  # Reduced number of neurons, and adjusted for new output size\n",
    "        self.fc2 = nn.Linear(50, 21)  # Output layer remains the same, 21 classes\n",
    "        self.relu = nn.ReLU()\n",
    "\n",
    "    def forward(self, x):\n",
    "        x = self.pool(self.relu(self.conv1(x)))\n",
    "        x = x.view(-1, 8 * 55 * 22)  # Flatten the output for the dense layer\n",
    "        x = self.relu(self.fc1(x))\n",
    "        x = self.fc2(x)\n",
    "        return x\n",
    "\n",
    "class MinimalAudioCNN(nn.Module):\n",
    "    def __init__(self):\n",
    "        super(MinimalAudioCNN, self).__init__()\n",
    "        self.conv1 = nn.Conv2d(1, 4, kernel_size=(3, 3), padding=1)  # Only 4 filters\n",
    "        self.pool = nn.MaxPool2d(2, 2)  # Pooling to reduce spatial dimensions\n",
    "        self.fc1 = nn.Linear(4 * 87 * 22, 21)  # Directly connecting to output layer\n",
    "        self.relu = nn.ReLU()\n",
    "        \n",
    "    def forward(self, x):\n",
    "        x = self.pool(self.relu(self.conv1(x)))  # Applying convolution then pooling\n",
    "        x = x.view(-1, 4 * 87 * 22)  # Flatten the output for the dense layer\n",
    "        x = self.fc1(x)  # Only one linear layer directly to outputs\n",
    "        return x\n",
    "    \n",
    "class ModifiedAudioCNN(nn.Module):\n",
    "    def __init__(self):\n",
    "        super(ModifiedAudioCNN, self).__init__()\n",
    "        self.conv1 = nn.Conv2d(1, 4, kernel_size=(3, 3), padding=1)\n",
    "        self.bn1 = nn.BatchNorm2d(4)\n",
    "        self.pool = nn.MaxPool2d(2, 2)\n",
    "        self.dropout = nn.Dropout(0.5)\n",
    "        self.fc1 = nn.Linear(4 * 87 * 22, 21)\n",
    "        self.relu = nn.ReLU()\n",
    "\n",
    "    def forward(self, x):\n",
    "        x = self.pool(self.relu(self.bn1(self.conv1(x))))\n",
    "        x = self.dropout(x)\n",
    "        x = x.view(-1, 4 * 87 * 22)\n",
    "        x = self.fc1(x)\n",
    "        return x\n",
    "\n",
    "class EnhancedAudioCNN(nn.Module):\n",
    "    def __init__(self):\n",
    "        super(EnhancedAudioCNN, self).__init__()\n",
    "        self.conv1 = nn.Conv2d(1, 32, kernel_size=(3, 3), padding=1)\n",
    "        self.bn1 = nn.BatchNorm2d(32, momentum=0.01)\n",
    "        self.conv2 = nn.Conv2d(32, 64, kernel_size=(3, 3), padding=1)\n",
    "        self.bn2 = nn.BatchNorm2d(64, momentum=0.1)\n",
    "        self.pool = nn.MaxPool2d(2, 2)\n",
    "        self.dropout1 = nn.Dropout(0.1)\n",
    "        self.conv3 = nn.Conv2d(64, 128, kernel_size=(3, 3), padding=1)\n",
    "        self.bn3 = nn.BatchNorm2d(128, momentum=0.1)\n",
    "        self.conv4 = nn.Conv2d(128, 64, kernel_size=(3, 3), padding=1)\n",
    "        self.bn4 = nn.BatchNorm2d(64, momentum=0.1)\n",
    "        self.fc1 = nn.Linear(64 * 6 * 2, 32)\n",
    "        self.relu = nn.ReLU()\n",
    "        self.dropout2 = nn.Dropout(0.1)\n",
    "        self.fc2 = nn.Linear(32, 21)\n",
    "\n",
    "    def forward(self, x):\n",
    "        x = self.pool(self.relu(self.bn1(self.conv1(x))))\n",
    "        x = self.pool(self.relu(self.bn2(self.conv2(x))))\n",
    "        x = self.dropout1(x)\n",
    "        x = self.pool(self.relu(self.bn3(self.conv3(x))))\n",
    "        x = self.pool(self.relu(self.bn4(self.conv4(x))))\n",
    "        x = self.dropout2(x)\n",
    "        x = x.view(-1, 64 * 6 * 2)  # Adjust the flattening to new layer dimensions\n",
    "        x = self.relu(self.fc1(x))\n",
    "        x = self.dropout2(x)\n",
    "        x = self.fc2(x)\n",
    "        return x\n"
   ],
   "id": "aaeed864a8c37c3d",
   "outputs": [],
   "execution_count": 30
  },
  {
   "metadata": {
    "ExecuteTime": {
     "end_time": "2024-05-13T12:19:53.703587Z",
     "start_time": "2024-05-13T12:19:53.686071Z"
    }
   },
   "cell_type": "code",
   "source": [
    "model = EnhancedAudioCNN()\n",
    "criterion = nn.CrossEntropyLoss()\n",
    "optimizer = optim.Adam(model.parameters(), lr=0.001, weight_decay=0.0001)\n",
    "\n",
    "dataset_train = CustomDataset(X_tensor_train, y_tensor_train)\n",
    "dataloader_train = DataLoader(dataset_train, batch_size=64, shuffle=True, drop_last=True)\n",
    "\n",
    "dataset_valid = CustomDataset(X_tensor_valid, y_tensor_valid)\n",
    "dataloader_valid = DataLoader(dataset_valid, batch_size=64, shuffle=False, drop_last=True)\n",
    "\n",
    "use_mps = torch.backends.mps.is_available()\n",
    "device = torch.device(\"mps\" if use_mps else \"cpu\")\n",
    "\n",
    "model.to(device)"
   ],
   "id": "b1fd7a438c7d79c4",
   "outputs": [
    {
     "data": {
      "text/plain": [
       "EnhancedAudioCNN(\n",
       "  (conv1): Conv2d(1, 32, kernel_size=(3, 3), stride=(1, 1), padding=(1, 1))\n",
       "  (bn1): BatchNorm2d(32, eps=1e-05, momentum=0.01, affine=True, track_running_stats=True)\n",
       "  (conv2): Conv2d(32, 64, kernel_size=(3, 3), stride=(1, 1), padding=(1, 1))\n",
       "  (bn2): BatchNorm2d(64, eps=1e-05, momentum=0.1, affine=True, track_running_stats=True)\n",
       "  (pool): MaxPool2d(kernel_size=2, stride=2, padding=0, dilation=1, ceil_mode=False)\n",
       "  (dropout1): Dropout(p=0.1, inplace=False)\n",
       "  (conv3): Conv2d(64, 128, kernel_size=(3, 3), stride=(1, 1), padding=(1, 1))\n",
       "  (bn3): BatchNorm2d(128, eps=1e-05, momentum=0.1, affine=True, track_running_stats=True)\n",
       "  (conv4): Conv2d(128, 64, kernel_size=(3, 3), stride=(1, 1), padding=(1, 1))\n",
       "  (bn4): BatchNorm2d(64, eps=1e-05, momentum=0.1, affine=True, track_running_stats=True)\n",
       "  (fc1): Linear(in_features=768, out_features=32, bias=True)\n",
       "  (relu): ReLU()\n",
       "  (dropout2): Dropout(p=0.1, inplace=False)\n",
       "  (fc2): Linear(in_features=32, out_features=21, bias=True)\n",
       ")"
      ]
     },
     "execution_count": 56,
     "metadata": {},
     "output_type": "execute_result"
    }
   ],
   "execution_count": 56
  },
  {
   "metadata": {
    "ExecuteTime": {
     "end_time": "2024-04-30T07:31:03.409782Z",
     "start_time": "2024-04-30T07:31:03.408240Z"
    }
   },
   "cell_type": "code",
   "source": "",
   "id": "1cc27d309eb0f5e",
   "outputs": [],
   "execution_count": 10
  },
  {
   "metadata": {
    "ExecuteTime": {
     "end_time": "2024-05-13T12:30:06.595581Z",
     "start_time": "2024-05-13T12:20:02.042501Z"
    }
   },
   "cell_type": "code",
   "source": [
    "# Example training loop\n",
    "num_epochs = 50\n",
    "#total_iterations = num_epochs * (len(dataloader_train) + len(dataloader_valid))\n",
    "#progress_bar = tqdm(total=total_iterations, desc='Training and Evaluation')\n",
    "\n",
    "losses_train = []\n",
    "losses_valid = []\n",
    "\n",
    "for epoch in range(num_epochs):\n",
    "    model.train()\n",
    "    for features, labels in dataloader_train:\n",
    "        optimizer.zero_grad()\n",
    "        features = features.unsqueeze(1)\n",
    "        inputs = features.to(device)\n",
    "        targets = labels.to(device)\n",
    "        outputs = model(inputs)\n",
    "        loss = criterion(outputs, targets)\n",
    "        loss.backward()\n",
    "        optimizer.step()\n",
    "        \n",
    "    losses_train.append(loss.item())\n",
    "    \n",
    "    model.eval()\n",
    "    with torch.no_grad():\n",
    "        for features, labels in dataloader_valid:\n",
    "            inputs = features.to(device)\n",
    "            inputs = inputs.unsqueeze(1)\n",
    "            targets = labels.to(device)\n",
    "            outputs = model(inputs)\n",
    "            loss = criterion(outputs, targets)\n",
    "        losses_valid.append(loss.item())\n",
    "    if losses_train[-1] < 0.3 and losses_valid[-1] < 0.3:\n",
    "        torch.save({\n",
    "            'model_state_dict': model.state_dict(),\n",
    "            'optimizer_state_dict': optimizer.state_dict(),\n",
    "            }, f'model_epoch_{epoch}.pth')\n",
    "    #progress_bar.update(2)\n",
    "    print(f'Epoch {epoch + 1}/{num_epochs}, Training loss: {losses_train[-1]}, Validation loss: {losses_valid[-1]}')"
   ],
   "id": "1feb5582ac53131e",
   "outputs": [
    {
     "name": "stdout",
     "output_type": "stream",
     "text": [
      "Epoch 1/50, Training loss: 0.9334429502487183, Validation loss: 1.1013908386230469\n",
      "Epoch 2/50, Training loss: 0.7257986068725586, Validation loss: 0.6208153367042542\n",
      "Epoch 3/50, Training loss: 0.7518255710601807, Validation loss: 0.815962553024292\n",
      "Epoch 4/50, Training loss: 0.5282989740371704, Validation loss: 0.5497913956642151\n",
      "Epoch 5/50, Training loss: 0.4398902654647827, Validation loss: 0.34140777587890625\n",
      "Epoch 6/50, Training loss: 0.31570181250572205, Validation loss: 0.36611562967300415\n",
      "Epoch 7/50, Training loss: 0.8580812811851501, Validation loss: 0.5764773488044739\n",
      "Epoch 8/50, Training loss: 0.4014457166194916, Validation loss: 0.38107752799987793\n",
      "Epoch 9/50, Training loss: 0.33173373341560364, Validation loss: 0.2612098753452301\n",
      "Epoch 10/50, Training loss: 0.41601818799972534, Validation loss: 0.45771801471710205\n",
      "Epoch 11/50, Training loss: 0.20761710405349731, Validation loss: 0.8232215046882629\n",
      "Epoch 12/50, Training loss: 0.2287498414516449, Validation loss: 0.4748823642730713\n",
      "Epoch 13/50, Training loss: 0.38980454206466675, Validation loss: 0.2275199592113495\n",
      "Epoch 14/50, Training loss: 0.17894329130649567, Validation loss: 0.28167715668678284\n",
      "Epoch 15/50, Training loss: 0.28341519832611084, Validation loss: 0.359138548374176\n",
      "Epoch 16/50, Training loss: 0.3282002806663513, Validation loss: 0.383636474609375\n",
      "Epoch 17/50, Training loss: 0.0950719565153122, Validation loss: 0.27404552698135376\n",
      "Epoch 18/50, Training loss: 0.3619530200958252, Validation loss: 0.27612972259521484\n",
      "Epoch 19/50, Training loss: 0.17543187737464905, Validation loss: 0.24958005547523499\n",
      "Epoch 20/50, Training loss: 0.19958627223968506, Validation loss: 0.2973572015762329\n",
      "Epoch 21/50, Training loss: 0.1612042933702469, Validation loss: 0.8684055209159851\n",
      "Epoch 22/50, Training loss: 0.11499343067407608, Validation loss: 0.620604395866394\n",
      "Epoch 23/50, Training loss: 0.21043890714645386, Validation loss: 0.7799971103668213\n",
      "Epoch 24/50, Training loss: 0.3007505238056183, Validation loss: 0.4083886742591858\n",
      "Epoch 25/50, Training loss: 0.16539213061332703, Validation loss: 0.461037814617157\n",
      "Epoch 26/50, Training loss: 0.2730634808540344, Validation loss: 0.49348217248916626\n",
      "Epoch 27/50, Training loss: 0.09826885163784027, Validation loss: 0.3101348280906677\n",
      "Epoch 28/50, Training loss: 0.31553125381469727, Validation loss: 0.5331017971038818\n",
      "Epoch 29/50, Training loss: 0.1910475194454193, Validation loss: 0.6585529446601868\n",
      "Epoch 30/50, Training loss: 0.05313361808657646, Validation loss: 0.6194683909416199\n",
      "Epoch 31/50, Training loss: 0.10621222108602524, Validation loss: 0.2752627432346344\n",
      "Epoch 32/50, Training loss: 0.3383388817310333, Validation loss: 0.3147980868816376\n",
      "Epoch 33/50, Training loss: 0.08850192278623581, Validation loss: 0.1677149534225464\n",
      "Epoch 34/50, Training loss: 0.14064449071884155, Validation loss: 0.22055934369564056\n",
      "Epoch 35/50, Training loss: 0.2089618742465973, Validation loss: 0.22879227995872498\n",
      "Epoch 36/50, Training loss: 0.13908886909484863, Validation loss: 0.20563119649887085\n",
      "Epoch 37/50, Training loss: 0.09806595742702484, Validation loss: 0.29815229773521423\n",
      "Epoch 38/50, Training loss: 0.2258630394935608, Validation loss: 0.16417960822582245\n",
      "Epoch 39/50, Training loss: 0.1444479525089264, Validation loss: 0.2842658758163452\n",
      "Epoch 40/50, Training loss: 0.21529054641723633, Validation loss: 0.09529997408390045\n",
      "Epoch 41/50, Training loss: 0.17712990939617157, Validation loss: 0.16378864645957947\n",
      "Epoch 42/50, Training loss: 0.3221930265426636, Validation loss: 0.3272387981414795\n",
      "Epoch 43/50, Training loss: 0.21321715414524078, Validation loss: 0.4602184295654297\n",
      "Epoch 44/50, Training loss: 0.07456953823566437, Validation loss: 0.3126537501811981\n",
      "Epoch 45/50, Training loss: 0.13980378210544586, Validation loss: 0.1421489417552948\n",
      "Epoch 46/50, Training loss: 0.1617027372121811, Validation loss: 0.22576427459716797\n",
      "Epoch 47/50, Training loss: 0.09540365636348724, Validation loss: 0.16678203642368317\n",
      "Epoch 48/50, Training loss: 0.0626918226480484, Validation loss: 0.26771754026412964\n",
      "Epoch 49/50, Training loss: 0.32980138063430786, Validation loss: 0.3612797260284424\n",
      "Epoch 50/50, Training loss: 0.17040260136127472, Validation loss: 0.20448336005210876\n"
     ]
    }
   ],
   "execution_count": 57
  },
  {
   "metadata": {
    "ExecuteTime": {
     "end_time": "2024-05-13T12:52:07.807990Z",
     "start_time": "2024-05-13T12:52:07.670330Z"
    }
   },
   "cell_type": "code",
   "source": [
    "import matplotlib.pyplot as plt\n",
    "\n",
    "# Assuming 'losses' is a list of float numbers representing the loss values\n",
    "plt.figure(figsize=(10, 5))  # Set the figure size (optional)\n",
    "plt.plot(losses_train, label='Training loss', marker='o')\n",
    "plt.plot(losses_valid, label='Validation loss', marker='x')  # Plot the losses with line and markers\n",
    "plt.title('Loss During Training and Evaluation')  # Give the plot a title\n",
    "plt.xlabel('Epoch')  # Label the x-axis as 'Epoch'\n",
    "plt.ylabel('Loss')  # Label the y-axis as 'Loss'\n",
    "plt.grid(True)  # Enable grid for easier readability\n",
    "plt.legend()\n",
    "plt.show()  # Display the plot"
   ],
   "id": "1dc5d574f27021ef",
   "outputs": [
    {
     "data": {
      "text/plain": [
       "<Figure size 1000x500 with 1 Axes>"
      ],
      "image/png": "[encoded data removed]"
     },
     "metadata": {},
     "output_type": "display_data"
    }
   ],
   "execution_count": 58
  },
  {
   "metadata": {
    "ExecuteTime": {
     "end_time": "2024-05-13T11:55:51.204645Z",
     "start_time": "2024-05-13T11:55:51.202338Z"
    }
   },
   "cell_type": "code",
   "source": [
    "losses = {}\n",
    "i = 0\n",
    "for train, valid in zip(losses_train, losses_valid):\n",
    "    losses[i] = (train + valid) / 2.0\n",
    "    i += 1\n",
    "print(losses)"
   ],
   "id": "d6223b7ee97a0f8",
   "outputs": [
    {
     "name": "stdout",
     "output_type": "stream",
     "text": [
      "{0: 1.0238907933235168, 1: 0.7726849913597107, 2: 0.41017571091651917, 3: 0.5054782330989838, 4: 0.4352187514305115, 5: 0.5672700107097626, 6: 0.7523325383663177, 7: 0.264121949672699, 8: 0.3519875258207321, 9: 0.5537025630474091, 10: 0.30785714089870453, 11: 0.20711658895015717, 12: 0.24715276062488556, 13: 0.2825005501508713, 14: 0.26964741945266724, 15: 0.6623668819665909, 16: 0.42854635417461395, 17: 0.24534934759140015, 18: 0.3023391216993332, 19: 0.19091109931468964}\n"
     ]
    }
   ],
   "execution_count": 48
  }
 ],
 "metadata": {
  "kernelspec": {
   "display_name": "Python 3",
   "language": "python",
   "name": "python3"
  },
  "language_info": {
   "codemirror_mode": {
    "name": "ipython",
    "version": 2
   },
   "file_extension": ".py",
   "mimetype": "text/x-python",
   "name": "python",
   "nbconvert_exporter": "python",
   "pygments_lexer": "ipython2",
   "version": "2.7.6"
  }
 },
 "nbformat": 4,
 "nbformat_minor": 5
}
